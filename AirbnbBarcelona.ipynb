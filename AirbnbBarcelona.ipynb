{
  "nbformat": 4,
  "nbformat_minor": 0,
  "metadata": {
    "colab": {
      "name": "Analisando os Dados do Airbnb Barcelona.ipynb",
      "provenance": [],
      "collapsed_sections": [],
      "include_colab_link": true
    },
    "kernelspec": {
      "name": "python3",
      "display_name": "Python 3"
    }
  },
  "cells": [
    {
      "cell_type": "markdown",
      "metadata": {
        "id": "view-in-github",
        "colab_type": "text"
      },
      "source": [
        "<a href=\"https://colab.research.google.com/github/henriquepaes1/analiseairbnb/blob/main/AirbnbBarcelona.ipynb\" target=\"_parent\"><img src=\"https://colab.research.google.com/assets/colab-badge.svg\" alt=\"Open In Colab\"/></a>"
      ]
    },
    {
      "cell_type": "markdown",
      "metadata": {
        "id": "kLI0gJtzDGuQ"
      },
      "source": [
        "<img alt=\"Colaboratory logo\" width=\"15%\" src=\"https://raw.githubusercontent.com/carlosfab/escola-data-science/master/img/novo_logo_bg_claro.png\">\n",
        "\n",
        "#### **Data Science na Prática 3.0**\n",
        "*by [sigmoidal.ai](https://sigmoidal.ai)*\n",
        "\n",
        "---\n",
        "\n",
        "# Análise dos Dados do Airbnb Barcelona\n",
        "\n",
        "O [Airbnb](https://www.airbnb.com.br/) é uma plataforma que permite anfitriões aluguem seus imóveis de forma dinâmica para algum outro cliente utilizando o serviço.\n",
        "\n",
        "Atualmente, a plataforma já é considerada a principal no que diz respeito a hospedagem e hotelaria, **apesar de não possuir nenhum imóvel**, salientando o poder do mundo das operações digitais.\n",
        "\n",
        "No final de 2018, a Startup fundada 10 anos atrás, já havia **hospedado mais de 300 milhões** de pessoas ao redor de todo o mundo, desafiando as redes hoteleiras tradicionais.\n",
        "\n",
        "Assim como toda empresa de tecnologia, o Airbnb dá muito valor aos dados e por meio do portal [Inside Airbnb](http://insideairbnb.com/get-the-data.html), é possível baixar uma grande quantidade de dados para desenvolver projetos e soluções de *Data Science*.\n",
        "\n",
        "<center><img alt=\"Analisando Airbnb\" width=\"10%\" src=\"https://www.area360.com.au/wp-content/uploads/2017/09/airbnb-logo.jpg\"></center>\n",
        "\n",
        "**Neste projeto realizaremos a análise dos dados do Airbnb referentes à cidade de Barcelona com a intenção de responder algumas perguntas sobre a hospedagem na cidade espanhola.**"
      ]
    },
    {
      "cell_type": "markdown",
      "metadata": {
        "id": "Er5Nb2McoETF"
      },
      "source": [
        "### **Sobre Barcelona**\n",
        "Barcelona é uma cidade espanhola localizada na comunidade autônoma da Catalunha. A metrópole é agitada e diversa e conta com atrações para todos os tipos de turistas, veja alguns atrativos da cidade:\n"
      ]
    },
    {
      "cell_type": "markdown",
      "metadata": {
        "id": "WbGGU9tdqfj9"
      },
      "source": [
        "#### Arquitetura\n",
        "Barcelona é uma cidade que conta com grandes obras da arquitetura, mas é destaque pela exótica combinação de construções do período gótico e construções mais modernas. Um dos grandes pontos turísticos da cidade, e referência da arquitetura gótica é a igreja Sagrada Família, projetada por Antoni Gaudí e que curiosamente, nunca foi terminada.\n",
        "<br>\n",
        "<img src='https://images.unsplash.com/photo-1583779457094-ab6f77f7bf57?ixid=MnwxMjA3fDB8MHxwaG90by1wYWdlfHx8fGVufDB8fHx8&ixlib=rb-1.2.1&auto=format&fit=crop&w=889&q=80'>"
      ]
    },
    {
      "cell_type": "markdown",
      "metadata": {
        "id": "eR1x5sqvqlNy"
      },
      "source": [
        "#### Esportes \n",
        "Barcelona foi a sede dos jogos olímpicos de 1992, então visitar o parque olímpico pode ser um bom passeio para quem procura ter mais contato com a cidade. Outra opção também é conhecer a casa de um dos fenômenos da cidade, O Camp Nou, estádio do *Barça*.\n",
        "<img src='https://images.unsplash.com/photo-1585170236738-aadfce97f025?ixid=MnwxMjA3fDB8MHxzZWFyY2h8NXx8Y2FtcCUyMG5vdSUyMHN0YWRpdW18ZW58MHx8MHx8&ixlib=rb-1.2.1&auto=format&fit=crop&w=500&q=60'>"
      ]
    },
    {
      "cell_type": "markdown",
      "metadata": {
        "id": "ZiZi40Dk5jxX"
      },
      "source": [
        "#### Praias\n",
        "Barcelona também é uma ótima opção para os praianos, a experiência de conhecer uma praia catalã atrai milhões de turistas todos os anos. Esse tipo de passeio é ainda mais procurado na época de calor da cidade, entre julho e setembro.\n",
        "# <img src='https://images.unsplash.com/photo-1590758351375-6a95b47f98d3?ixid=MnwxMjA3fDB8MHxzZWFyY2h8MXx8YmFyY2Vsb25ldGF8ZW58MHx8MHx8&ixlib=rb-1.2.1&auto=format&fit=crop&w=500&q=60'>"
      ]
    },
    {
      "cell_type": "markdown",
      "metadata": {
        "id": "2okHZBc76iT-"
      },
      "source": [
        "E aí? Acha que Barcelona pode ser um bom destino para sua próxima viagem? Então já comece a pensar na hospedagem. Esse artigo pode te dar um bom panorama do Airbnb em Barcelona."
      ]
    },
    {
      "cell_type": "markdown",
      "metadata": {
        "id": "0zxQHhIUDF_2"
      },
      "source": [
        "## Obtenção dos Dados\n",
        "Os dados do Airbnb na cidade de Barcelona foram divulgados pela própria empresa. Na data da realização desse projeto, os dados disponíveis foram disponibilizados no dia **8 de Junho de 2021**.\n"
      ]
    },
    {
      "cell_type": "code",
      "metadata": {
        "id": "Vhp2wMPgJ6zX"
      },
      "source": [
        "# importar os pacotes necessarios\n",
        "import pandas as pd\n",
        "import matplotlib.pyplot as plt\n",
        "import seaborn as snb"
      ],
      "execution_count": 55,
      "outputs": []
    },
    {
      "cell_type": "code",
      "metadata": {
        "id": "tUmoAT8DLQ5T"
      },
      "source": [
        "# importar o arquivo listings.csv para um DataFrame\n",
        "df = pd.read_csv('http://data.insideairbnb.com/spain/catalonia/barcelona/2021-06-08/visualisations/listings.csv', index_col=0)"
      ],
      "execution_count": 56,
      "outputs": []
    },
    {
      "cell_type": "markdown",
      "metadata": {
        "id": "qb5By2nIMS6m"
      },
      "source": [
        "## Análise dos Dados\n",
        "Aqui começa nossa empreitada nos dados do airbnb."
      ]
    },
    {
      "cell_type": "code",
      "metadata": {
        "colab": {
          "base_uri": "https://localhost:8080/"
        },
        "id": "lWFvY8diiYH3",
        "outputId": "e08aa04a-09e0-4072-e65d-b7ca13865ec5"
      },
      "source": [
        "df.columns"
      ],
      "execution_count": 57,
      "outputs": [
        {
          "output_type": "execute_result",
          "data": {
            "text/plain": [
              "Index(['name', 'host_id', 'host_name', 'neighbourhood_group', 'neighbourhood',\n",
              "       'latitude', 'longitude', 'room_type', 'price', 'minimum_nights',\n",
              "       'number_of_reviews', 'last_review', 'reviews_per_month',\n",
              "       'calculated_host_listings_count', 'availability_365'],\n",
              "      dtype='object')"
            ]
          },
          "metadata": {
            "tags": []
          },
          "execution_count": 57
        }
      ]
    },
    {
      "cell_type": "code",
      "metadata": {
        "id": "wJPrdtF1lC4S"
      },
      "source": [
        " "
      ],
      "execution_count": 57,
      "outputs": []
    },
    {
      "cell_type": "markdown",
      "metadata": {
        "id": "RYgvuebKNg8-"
      },
      "source": [
        "###Dicionário das variáveis\n",
        "\n",
        "* id: número de identificação único de cada anúncio\n",
        "* nome: nome do anunciante\n",
        "* host_id: número de identificação único do anunciante\n",
        "* neighbourhood_group: diante de uma análise rápida dos dados fornecidos, pode-se concluir que o *neighboourhood_group* trata-se do **distrito** em que o imóvel está localizado¹\n",
        "* neighbourhood_group: **bairro** do imóvel\n",
        "* latitude e longidute: coordenadas geográficas do imóvel\n",
        "* room_type: **tipo** do imóvel ofertado\n",
        "* price: **preço** do aluguel por noite\n",
        "* minimum_nights: número mínimo de noites para alugar\n",
        "* number_of_reviews: avaliações disponíveis para o imóvel\n",
        "* last_review: última avaliação disponível\n",
        "* reviews_per_month: média das avaliações mensais\n",
        "* calculated_host_listings_count: quantidades de imóveis desse anunciante\n",
        "* availability_365: número de dias que esse imóvel está disponível para os próximos 365 dias\n",
        "\n",
        "1- Para mais informações sobre distritos e bairros em Barcelona, consulte: <br>\n",
        "* https://pt.wikipedia.org/wiki/Distritos_de_Barcelona\n",
        "<br>\n",
        "* https://www.passaportebcn.com/a-cidade-de-barcelona/os-distritos-e-bairros-de-barcelona/\n",
        "\n",
        "Primeiramente, vamos analisar como nossos dados estão dispostos no *dataset* através da exibição das 5 primeiras entradas.\n"
      ]
    },
    {
      "cell_type": "code",
      "metadata": {
        "id": "2iS_dae7YQtO",
        "colab": {
          "base_uri": "https://localhost:8080/",
          "height": 425
        },
        "outputId": "eb449ea2-cc0f-4b48-979c-155496ed5592"
      },
      "source": [
        "# mostrar as 5 primeiras entradas\n",
        "df.head()"
      ],
      "execution_count": 58,
      "outputs": [
        {
          "output_type": "execute_result",
          "data": {
            "text/html": [
              "<div>\n",
              "<style scoped>\n",
              "    .dataframe tbody tr th:only-of-type {\n",
              "        vertical-align: middle;\n",
              "    }\n",
              "\n",
              "    .dataframe tbody tr th {\n",
              "        vertical-align: top;\n",
              "    }\n",
              "\n",
              "    .dataframe thead th {\n",
              "        text-align: right;\n",
              "    }\n",
              "</style>\n",
              "<table border=\"1\" class=\"dataframe\">\n",
              "  <thead>\n",
              "    <tr style=\"text-align: right;\">\n",
              "      <th></th>\n",
              "      <th>name</th>\n",
              "      <th>host_id</th>\n",
              "      <th>host_name</th>\n",
              "      <th>neighbourhood_group</th>\n",
              "      <th>neighbourhood</th>\n",
              "      <th>latitude</th>\n",
              "      <th>longitude</th>\n",
              "      <th>room_type</th>\n",
              "      <th>price</th>\n",
              "      <th>minimum_nights</th>\n",
              "      <th>number_of_reviews</th>\n",
              "      <th>last_review</th>\n",
              "      <th>reviews_per_month</th>\n",
              "      <th>calculated_host_listings_count</th>\n",
              "      <th>availability_365</th>\n",
              "    </tr>\n",
              "    <tr>\n",
              "      <th>id</th>\n",
              "      <th></th>\n",
              "      <th></th>\n",
              "      <th></th>\n",
              "      <th></th>\n",
              "      <th></th>\n",
              "      <th></th>\n",
              "      <th></th>\n",
              "      <th></th>\n",
              "      <th></th>\n",
              "      <th></th>\n",
              "      <th></th>\n",
              "      <th></th>\n",
              "      <th></th>\n",
              "      <th></th>\n",
              "      <th></th>\n",
              "    </tr>\n",
              "  </thead>\n",
              "  <tbody>\n",
              "    <tr>\n",
              "      <th>18674</th>\n",
              "      <td>Huge flat for 8 people close to Sagrada Familia</td>\n",
              "      <td>71615</td>\n",
              "      <td>Mireia And Maria</td>\n",
              "      <td>Eixample</td>\n",
              "      <td>la Sagrada Família</td>\n",
              "      <td>41.40556</td>\n",
              "      <td>2.17262</td>\n",
              "      <td>Entire home/apt</td>\n",
              "      <td>157</td>\n",
              "      <td>1</td>\n",
              "      <td>21</td>\n",
              "      <td>2019-10-11</td>\n",
              "      <td>0.24</td>\n",
              "      <td>18</td>\n",
              "      <td>78</td>\n",
              "    </tr>\n",
              "    <tr>\n",
              "      <th>23197</th>\n",
              "      <td>Forum CCIB DeLuxe★Spacious &amp;Elegant★Large Balcony</td>\n",
              "      <td>90417</td>\n",
              "      <td>Etain (Marnie)</td>\n",
              "      <td>Sant Martí</td>\n",
              "      <td>el Besòs i el Maresme</td>\n",
              "      <td>41.41291</td>\n",
              "      <td>2.22063</td>\n",
              "      <td>Entire home/apt</td>\n",
              "      <td>220</td>\n",
              "      <td>3</td>\n",
              "      <td>52</td>\n",
              "      <td>2019-12-15</td>\n",
              "      <td>0.79</td>\n",
              "      <td>2</td>\n",
              "      <td>213</td>\n",
              "    </tr>\n",
              "    <tr>\n",
              "      <th>32711</th>\n",
              "      <td>Sagrada Familia area - Còrsega 1</td>\n",
              "      <td>135703</td>\n",
              "      <td>Nick</td>\n",
              "      <td>Gràcia</td>\n",
              "      <td>el Camp d'en Grassot i Gràcia Nova</td>\n",
              "      <td>41.40566</td>\n",
              "      <td>2.17015</td>\n",
              "      <td>Entire home/apt</td>\n",
              "      <td>144</td>\n",
              "      <td>2</td>\n",
              "      <td>63</td>\n",
              "      <td>2019-09-06</td>\n",
              "      <td>0.62</td>\n",
              "      <td>5</td>\n",
              "      <td>0</td>\n",
              "    </tr>\n",
              "    <tr>\n",
              "      <th>34241</th>\n",
              "      <td>Private Double room - Plaza Real</td>\n",
              "      <td>73163</td>\n",
              "      <td>Andres</td>\n",
              "      <td>Ciutat Vella</td>\n",
              "      <td>el Barri Gòtic</td>\n",
              "      <td>41.38062</td>\n",
              "      <td>2.17517</td>\n",
              "      <td>Private room</td>\n",
              "      <td>50</td>\n",
              "      <td>30</td>\n",
              "      <td>8</td>\n",
              "      <td>2012-12-30</td>\n",
              "      <td>0.07</td>\n",
              "      <td>2</td>\n",
              "      <td>6</td>\n",
              "    </tr>\n",
              "    <tr>\n",
              "      <th>34981</th>\n",
              "      <td>VIDRE HOME PLAZA REAL on LAS RAMBLAS</td>\n",
              "      <td>73163</td>\n",
              "      <td>Andres</td>\n",
              "      <td>Ciutat Vella</td>\n",
              "      <td>el Barri Gòtic</td>\n",
              "      <td>41.37978</td>\n",
              "      <td>2.17623</td>\n",
              "      <td>Entire home/apt</td>\n",
              "      <td>174</td>\n",
              "      <td>4</td>\n",
              "      <td>150</td>\n",
              "      <td>2020-03-11</td>\n",
              "      <td>1.55</td>\n",
              "      <td>2</td>\n",
              "      <td>152</td>\n",
              "    </tr>\n",
              "  </tbody>\n",
              "</table>\n",
              "</div>"
            ],
            "text/plain": [
              "                                                    name  ...  availability_365\n",
              "id                                                        ...                  \n",
              "18674    Huge flat for 8 people close to Sagrada Familia  ...                78\n",
              "23197  Forum CCIB DeLuxe★Spacious &Elegant★Large Balcony  ...               213\n",
              "32711                   Sagrada Familia area - Còrsega 1  ...                 0\n",
              "34241                   Private Double room - Plaza Real  ...                 6\n",
              "34981               VIDRE HOME PLAZA REAL on LAS RAMBLAS  ...               152\n",
              "\n",
              "[5 rows x 15 columns]"
            ]
          },
          "metadata": {
            "tags": []
          },
          "execution_count": 58
        }
      ]
    },
    {
      "cell_type": "markdown",
      "metadata": {
        "id": "6-B_qtEaYEd-"
      },
      "source": [
        "### **Qual é o tamanho do problema?**"
      ]
    },
    {
      "cell_type": "markdown",
      "metadata": {
        "id": "jAY8xdmjqacD"
      },
      "source": [
        "#### Quantas entradas tem o *dataset*? Quantas variáveis essas entradas possuem?"
      ]
    },
    {
      "cell_type": "code",
      "metadata": {
        "id": "TFRK0tniLV-G",
        "colab": {
          "base_uri": "https://localhost:8080/"
        },
        "outputId": "14f44995-6d2d-4c98-bf9e-da6878eeb87f"
      },
      "source": [
        "# identificar o volume de dados do DataFrame\n",
        "linhas = df.shape[0]\n",
        "colunas = df.shape[1]\n",
        "print(\"Entradas: {}\".format(linhas))\n",
        "print(\"Variáveis: {}\".format(colunas))\n"
      ],
      "execution_count": 59,
      "outputs": [
        {
          "output_type": "stream",
          "text": [
            "Entradas: 17589\n",
            "Variáveis: 15\n"
          ],
          "name": "stdout"
        }
      ]
    },
    {
      "cell_type": "markdown",
      "metadata": {
        "id": "1bh_M0V0ozPA"
      },
      "source": [
        "#### Com quais variáveis estamos lidando? "
      ]
    },
    {
      "cell_type": "code",
      "metadata": {
        "colab": {
          "base_uri": "https://localhost:8080/"
        },
        "id": "H2x3DSgAp_PJ",
        "outputId": "05fbcde4-d592-46a5-c72b-bc2c865460ef"
      },
      "source": [
        "# identificar os tipos das variáveis\n",
        "df.dtypes"
      ],
      "execution_count": 60,
      "outputs": [
        {
          "output_type": "execute_result",
          "data": {
            "text/plain": [
              "name                               object\n",
              "host_id                             int64\n",
              "host_name                          object\n",
              "neighbourhood_group                object\n",
              "neighbourhood                      object\n",
              "latitude                          float64\n",
              "longitude                         float64\n",
              "room_type                          object\n",
              "price                               int64\n",
              "minimum_nights                      int64\n",
              "number_of_reviews                   int64\n",
              "last_review                        object\n",
              "reviews_per_month                 float64\n",
              "calculated_host_listings_count      int64\n",
              "availability_365                    int64\n",
              "dtype: object"
            ]
          },
          "metadata": {
            "tags": []
          },
          "execution_count": 60
        }
      ]
    },
    {
      "cell_type": "markdown",
      "metadata": {
        "id": "yz1urSUGW9iE"
      },
      "source": [
        "### **Dados ausentes**"
      ]
    },
    {
      "cell_type": "markdown",
      "metadata": {
        "id": "M63UIL9Sqv0v"
      },
      "source": [
        "#### Quais variáveis possuem mais valores ausentes?"
      ]
    },
    {
      "cell_type": "code",
      "metadata": {
        "id": "plk2FjbCXOqP",
        "colab": {
          "base_uri": "https://localhost:8080/"
        },
        "outputId": "51226081-0850-45ce-e24c-166d424a9337"
      },
      "source": [
        "# ordenar em ordem decrescente as variáveis por seus valores ausentes\n",
        "\n",
        "df.isnull().sum().sort_values(ascending = False)"
      ],
      "execution_count": 61,
      "outputs": [
        {
          "output_type": "execute_result",
          "data": {
            "text/plain": [
              "reviews_per_month                 5389\n",
              "last_review                       5389\n",
              "host_name                           11\n",
              "name                                11\n",
              "availability_365                     0\n",
              "calculated_host_listings_count       0\n",
              "number_of_reviews                    0\n",
              "minimum_nights                       0\n",
              "price                                0\n",
              "room_type                            0\n",
              "longitude                            0\n",
              "latitude                             0\n",
              "neighbourhood                        0\n",
              "neighbourhood_group                  0\n",
              "host_id                              0\n",
              "dtype: int64"
            ]
          },
          "metadata": {
            "tags": []
          },
          "execution_count": 61
        }
      ]
    },
    {
      "cell_type": "code",
      "metadata": {
        "colab": {
          "base_uri": "https://localhost:8080/"
        },
        "id": "M0IzrvJEleJ9",
        "outputId": "73b0165e-e473-4991-fc12-4279f5c4bb83"
      },
      "source": [
        "df.isnull().sum() / df.shape[0]"
      ],
      "execution_count": 62,
      "outputs": [
        {
          "output_type": "execute_result",
          "data": {
            "text/plain": [
              "name                              0.000625\n",
              "host_id                           0.000000\n",
              "host_name                         0.000625\n",
              "neighbourhood_group               0.000000\n",
              "neighbourhood                     0.000000\n",
              "latitude                          0.000000\n",
              "longitude                         0.000000\n",
              "room_type                         0.000000\n",
              "price                             0.000000\n",
              "minimum_nights                    0.000000\n",
              "number_of_reviews                 0.000000\n",
              "last_review                       0.306385\n",
              "reviews_per_month                 0.306385\n",
              "calculated_host_listings_count    0.000000\n",
              "availability_365                  0.000000\n",
              "dtype: float64"
            ]
          },
          "metadata": {
            "tags": []
          },
          "execution_count": 62
        }
      ]
    },
    {
      "cell_type": "markdown",
      "metadata": {
        "id": "qGIGrryik_ui"
      },
      "source": [
        "#### Lidando com os valores ausentes \n",
        "Como foi observado, as colunas que possuem dados ausentes, não são vitais para as análises que serão realizadas, podendo ser excluídas. "
      ]
    },
    {
      "cell_type": "code",
      "metadata": {
        "colab": {
          "base_uri": "https://localhost:8080/"
        },
        "id": "X8Ky4yDkmLz3",
        "outputId": "7023b76c-e644-48a4-8a47-0bd2677a864d"
      },
      "source": [
        "df_clean = df.copy()\n",
        "df_clean.drop(['name', 'host_name', 'last_review', 'reviews_per_month'], axis = 1, inplace = True)\n",
        "df_clean.isnull().sum()"
      ],
      "execution_count": 63,
      "outputs": [
        {
          "output_type": "execute_result",
          "data": {
            "text/plain": [
              "host_id                           0\n",
              "neighbourhood_group               0\n",
              "neighbourhood                     0\n",
              "latitude                          0\n",
              "longitude                         0\n",
              "room_type                         0\n",
              "price                             0\n",
              "minimum_nights                    0\n",
              "number_of_reviews                 0\n",
              "calculated_host_listings_count    0\n",
              "availability_365                  0\n",
              "dtype: int64"
            ]
          },
          "metadata": {
            "tags": []
          },
          "execution_count": 63
        }
      ]
    },
    {
      "cell_type": "markdown",
      "metadata": {
        "id": "L5CzN_snnJX7"
      },
      "source": [
        "### **Outliers**\n",
        "#### Para a melhor análise de alguns dados numéricos, é necessário ver se existem *outliers* em variáveis relevantes do nosso dataset. A presença de outliers pode ser prejudicial para a análise de algumas médias. Para mais informações sobre o que são outliers, veja esse [artigo](https://medium.com/@hpaesdesouza/data-science-outliers-425d46476328)"
      ]
    },
    {
      "cell_type": "code",
      "metadata": {
        "colab": {
          "base_uri": "https://localhost:8080/",
          "height": 297
        },
        "id": "UmNcsTeWnfzT",
        "outputId": "1caba309-52e4-42e7-fead-1a6093b6a782"
      },
      "source": [
        "df_clean.describe()"
      ],
      "execution_count": 64,
      "outputs": [
        {
          "output_type": "execute_result",
          "data": {
            "text/html": [
              "<div>\n",
              "<style scoped>\n",
              "    .dataframe tbody tr th:only-of-type {\n",
              "        vertical-align: middle;\n",
              "    }\n",
              "\n",
              "    .dataframe tbody tr th {\n",
              "        vertical-align: top;\n",
              "    }\n",
              "\n",
              "    .dataframe thead th {\n",
              "        text-align: right;\n",
              "    }\n",
              "</style>\n",
              "<table border=\"1\" class=\"dataframe\">\n",
              "  <thead>\n",
              "    <tr style=\"text-align: right;\">\n",
              "      <th></th>\n",
              "      <th>host_id</th>\n",
              "      <th>latitude</th>\n",
              "      <th>longitude</th>\n",
              "      <th>price</th>\n",
              "      <th>minimum_nights</th>\n",
              "      <th>number_of_reviews</th>\n",
              "      <th>calculated_host_listings_count</th>\n",
              "      <th>availability_365</th>\n",
              "    </tr>\n",
              "  </thead>\n",
              "  <tbody>\n",
              "    <tr>\n",
              "      <th>count</th>\n",
              "      <td>1.758900e+04</td>\n",
              "      <td>17589.000000</td>\n",
              "      <td>17589.000000</td>\n",
              "      <td>17589.000000</td>\n",
              "      <td>17589.000000</td>\n",
              "      <td>17589.000000</td>\n",
              "      <td>17589.000000</td>\n",
              "      <td>17589.000000</td>\n",
              "    </tr>\n",
              "    <tr>\n",
              "      <th>mean</th>\n",
              "      <td>1.154252e+08</td>\n",
              "      <td>41.391991</td>\n",
              "      <td>2.167047</td>\n",
              "      <td>111.719370</td>\n",
              "      <td>12.241685</td>\n",
              "      <td>32.089260</td>\n",
              "      <td>16.470578</td>\n",
              "      <td>155.224686</td>\n",
              "    </tr>\n",
              "    <tr>\n",
              "      <th>std</th>\n",
              "      <td>1.173289e+08</td>\n",
              "      <td>0.014615</td>\n",
              "      <td>0.017671</td>\n",
              "      <td>361.677713</td>\n",
              "      <td>29.299738</td>\n",
              "      <td>64.709867</td>\n",
              "      <td>32.583784</td>\n",
              "      <td>138.201367</td>\n",
              "    </tr>\n",
              "    <tr>\n",
              "      <th>min</th>\n",
              "      <td>3.073000e+03</td>\n",
              "      <td>41.349430</td>\n",
              "      <td>2.089110</td>\n",
              "      <td>0.000000</td>\n",
              "      <td>1.000000</td>\n",
              "      <td>0.000000</td>\n",
              "      <td>1.000000</td>\n",
              "      <td>0.000000</td>\n",
              "    </tr>\n",
              "    <tr>\n",
              "      <th>25%</th>\n",
              "      <td>9.477063e+06</td>\n",
              "      <td>41.380540</td>\n",
              "      <td>2.156690</td>\n",
              "      <td>36.000000</td>\n",
              "      <td>1.000000</td>\n",
              "      <td>0.000000</td>\n",
              "      <td>1.000000</td>\n",
              "      <td>0.000000</td>\n",
              "    </tr>\n",
              "    <tr>\n",
              "      <th>50%</th>\n",
              "      <td>6.457569e+07</td>\n",
              "      <td>41.389320</td>\n",
              "      <td>2.167970</td>\n",
              "      <td>60.000000</td>\n",
              "      <td>3.000000</td>\n",
              "      <td>4.000000</td>\n",
              "      <td>3.000000</td>\n",
              "      <td>150.000000</td>\n",
              "    </tr>\n",
              "    <tr>\n",
              "      <th>75%</th>\n",
              "      <td>2.098823e+08</td>\n",
              "      <td>41.401810</td>\n",
              "      <td>2.177580</td>\n",
              "      <td>117.000000</td>\n",
              "      <td>30.000000</td>\n",
              "      <td>33.000000</td>\n",
              "      <td>15.000000</td>\n",
              "      <td>298.000000</td>\n",
              "    </tr>\n",
              "    <tr>\n",
              "      <th>max</th>\n",
              "      <td>4.052032e+08</td>\n",
              "      <td>41.463060</td>\n",
              "      <td>2.227710</td>\n",
              "      <td>10045.000000</td>\n",
              "      <td>1124.000000</td>\n",
              "      <td>824.000000</td>\n",
              "      <td>165.000000</td>\n",
              "      <td>365.000000</td>\n",
              "    </tr>\n",
              "  </tbody>\n",
              "</table>\n",
              "</div>"
            ],
            "text/plain": [
              "            host_id  ...  availability_365\n",
              "count  1.758900e+04  ...      17589.000000\n",
              "mean   1.154252e+08  ...        155.224686\n",
              "std    1.173289e+08  ...        138.201367\n",
              "min    3.073000e+03  ...          0.000000\n",
              "25%    9.477063e+06  ...          0.000000\n",
              "50%    6.457569e+07  ...        150.000000\n",
              "75%    2.098823e+08  ...        298.000000\n",
              "max    4.052032e+08  ...        365.000000\n",
              "\n",
              "[8 rows x 8 columns]"
            ]
          },
          "metadata": {
            "tags": []
          },
          "execution_count": 64
        }
      ]
    },
    {
      "cell_type": "markdown",
      "metadata": {
        "id": "BuCdAvV2nvaP"
      },
      "source": [
        "Observa-se a presença de outliers em 2 colunas relevantes do nosso dataset, sendo elas: 'price' e 'minimum_nights'. Vamos resolver esse problema."
      ]
    },
    {
      "cell_type": "markdown",
      "metadata": {
        "id": "HHexNLCooGOU"
      },
      "source": [
        "#### Tratamento estatístico de outliers\n",
        "Para mais detalhes teóricos do tratamento estatístico dos outliers, acesse este artigo "
      ]
    },
    {
      "cell_type": "code",
      "metadata": {
        "id": "xmLeBHYxo6kz"
      },
      "source": [
        "# outliers para a coluna 'price'\n",
        "q1_price = df_clean.price.quantile(0.25)  # primeiro quartil da coluna precos \n",
        "q3_price = df_clean.price.quantile(0.75) # segundo quartil da coluna precos\n",
        "iqr_price = q3_price - q1_price  # amplitude interquartil\n",
        "\n",
        "limite_sup_price = q3_price + 1.5 * iqr_price  # limite superior de preco\n",
        "limite_inf_price = q1_price - 1.5 * iqr_price  # limite inferior de preco\n",
        "\n",
        "if limite_inf_price < 0:  # faz com que os dados sejam coerentes com a realidade\n",
        "  limite_inf_price = 0\n"
      ],
      "execution_count": 65,
      "outputs": []
    },
    {
      "cell_type": "markdown",
      "metadata": {
        "id": "gj0C0h4uqdrl"
      },
      "source": [
        "Com os valores estatísticos definidos, é possível calcular a porcentagem de entradas contendo outliers, afim de mapearmos melhor os outliers do nosso dataset."
      ]
    },
    {
      "cell_type": "code",
      "metadata": {
        "colab": {
          "base_uri": "https://localhost:8080/"
        },
        "id": "wooWY-sjr5O2",
        "outputId": "02396e7a-db24-4534-c48e-871bdce446ef"
      },
      "source": [
        "price_total_outliers = len(df_clean[df_clean.price > limite_sup_price]) + len(df_clean[df_clean.price < limite_inf_price])\n",
        "price_outliers_percent = (price_total_outliers / df_clean.shape[0]) * 100\n",
        "print(\"A porcentagem de entradas de preco que são outliers é de: {:.2f}%\".format(price_outliers_percent))\n"
      ],
      "execution_count": 66,
      "outputs": [
        {
          "output_type": "stream",
          "text": [
            "A porcentagem de entradas de preco que são outliers é de: 6.60%\n"
          ],
          "name": "stdout"
        }
      ]
    },
    {
      "cell_type": "markdown",
      "metadata": {
        "id": "sE1ZVLtZu3fo"
      },
      "source": [
        "Como as entradas contendo outliers ainda podem ser valiosas para outras análises que não envolvam a média, é importante trabalhar com cópias do dataset original."
      ]
    },
    {
      "cell_type": "code",
      "metadata": {
        "colab": {
          "base_uri": "https://localhost:8080/"
        },
        "id": "oURZA3Ukuq-W",
        "outputId": "241ba867-0444-4489-f7b0-bb1f553e4bf8"
      },
      "source": [
        "df_bcn = df_clean.copy()\n",
        "df_bcn.drop(df_bcn[df_bcn.price > limite_sup_price].index, inplace = True)\n",
        "df_bcn.drop(df_bcn[df_bcn.price < limite_inf_price].index, inplace = True)\n",
        "\n",
        "df_bcn.shape"
      ],
      "execution_count": 67,
      "outputs": [
        {
          "output_type": "execute_result",
          "data": {
            "text/plain": [
              "(16429, 11)"
            ]
          },
          "metadata": {
            "tags": []
          },
          "execution_count": 67
        }
      ]
    },
    {
      "cell_type": "markdown",
      "metadata": {
        "id": "BxQYn_OKx9i_"
      },
      "source": [
        "Repetindo o processo para a variável 'minimum_nights'"
      ]
    },
    {
      "cell_type": "code",
      "metadata": {
        "colab": {
          "base_uri": "https://localhost:8080/"
        },
        "id": "OR5TIJ9cyEB9",
        "outputId": "bfbc9dcc-5c53-4397-c4a7-c33a08776515"
      },
      "source": [
        "# outliers para a coluna 'price'\n",
        "q1_mnights = df_clean['minimum_nights'].quantile(0.25)  # primeiro quartil da coluna minimum_nights \n",
        "q3_mnights = df_clean['minimum_nights'].quantile(0.75) # segundo quartil da coluna minimum_nights\n",
        "iqr_mnights = q3_mnights - q1_mnights  # amplitude interquartil\n",
        "\n",
        "# note que os valores utilizados no cálculo vieram do dataframe que não removeu os outliers de preco\n",
        "\n",
        "limite_sup_mnights = q3_mnights + 1.5 * iqr_mnights \n",
        "limite_inf_mnights = q1_mnights - 1.5 * iqr_mnights  \n",
        "\n",
        "if limite_inf_mnights < 0:  \n",
        "  limite_inf_mnights = 0\n",
        "\n",
        "df_bcn.drop(df_bcn[df_bcn['minimum_nights'] > limite_sup_mnights].index, inplace = True)\n",
        "df_bcn.drop(df_bcn[df_bcn['minimum_nights'] < limite_inf_mnights].index, inplace = True)\n",
        "\n",
        "df_bcn.shape\n",
        "\n"
      ],
      "execution_count": 68,
      "outputs": [
        {
          "output_type": "execute_result",
          "data": {
            "text/plain": [
              "(16207, 11)"
            ]
          },
          "metadata": {
            "tags": []
          },
          "execution_count": 68
        }
      ]
    },
    {
      "cell_type": "markdown",
      "metadata": {
        "id": "_8SDMOBP0s25"
      },
      "source": [
        "Agora com o dataset mais limpo, podemos começar as análises."
      ]
    },
    {
      "cell_type": "markdown",
      "metadata": {
        "id": "iHXvvHIxaoNc"
      },
      "source": [
        "### **Distribuição das variáveis** \n",
        "\n",
        "#### O resultado obtidos nessa sessão nos permitirá ver como o *dataset* realmente ficou após a limpeza\n",
        "\n"
      ]
    },
    {
      "cell_type": "code",
      "metadata": {
        "id": "q2wWSfeRbmBo",
        "colab": {
          "base_uri": "https://localhost:8080/",
          "height": 607
        },
        "outputId": "5fced93b-f9ad-48dc-c0b8-24157f4cd4fc"
      },
      "source": [
        "# plotar o histograma das variáveis numéricas\n",
        "df_bcn.hist(figsize=(15, 10), bins=10, grid = False);"
      ],
      "execution_count": 69,
      "outputs": [
        {
          "output_type": "display_data",
          "data": {
            "image/png": "[encoded data removed]",
            "text/plain": [
              "<Figure size 1080x720 with 9 Axes>"
            ]
          },
          "metadata": {
            "tags": [],
            "needs_background": "light"
          }
        }
      ]
    },
    {
      "cell_type": "markdown",
      "metadata": {
        "id": "PfigZNWz2MCp"
      },
      "source": [
        "A análise dos histogramas mostra que há uma grande preferência por áreas específicas da cidade. Pode-se também observar a tendência do aluguel de imóveis onde o preço da diária esta na faixa dos 50~70 dólares. Essas análises são preliminares e serão mais aprofundadas no decorrer deste artigo."
      ]
    },
    {
      "cell_type": "markdown",
      "metadata": {
        "id": "7x4aw1j5wNmn"
      },
      "source": [
        "### **Média dos preços de aluguel**"
      ]
    },
    {
      "cell_type": "code",
      "metadata": {
        "id": "ff-8gUahLk-C",
        "colab": {
          "base_uri": "https://localhost:8080/"
        },
        "outputId": "08030225-431a-4949-c0f8-0e638a1ab73f"
      },
      "source": [
        "# ver a média da coluna de precos\n",
        "print(\"A média de preço de aluguel é ${:.2f}\".format(df_bcn.price.mean()))"
      ],
      "execution_count": 70,
      "outputs": [
        {
          "output_type": "stream",
          "text": [
            "A média de preço de aluguel é $73.77\n"
          ],
          "name": "stdout"
        }
      ]
    },
    {
      "cell_type": "code",
      "metadata": {
        "colab": {
          "base_uri": "https://localhost:8080/",
          "height": 320
        },
        "id": "r4hXeAukH7l1",
        "outputId": "bb1a0e8a-2cbb-43c0-fdf9-9c7927a808b9"
      },
      "source": [
        "df_bcn.price.hist(figsize=(7, 5), bins=10, grid = False);"
      ],
      "execution_count": 71,
      "outputs": [
        {
          "output_type": "display_data",
          "data": {
            "image/png": "[encoded data removed]",
            "text/plain": [
              "<Figure size 504x360 with 1 Axes>"
            ]
          },
          "metadata": {
            "tags": [],
            "needs_background": "light"
          }
        }
      ]
    },
    {
      "cell_type": "markdown",
      "metadata": {
        "id": "IXn2oIo5qx-w"
      },
      "source": [
        "### **Correlação entre variáveis**"
      ]
    },
    {
      "cell_type": "markdown",
      "metadata": {
        "id": "-XFxn5EG7TpY"
      },
      "source": [
        "Tentaremos correlacionar o preço da diária com a localização dos imóveis e suas respectivas avaliações. Válido ressaltar que para essa análise, utilizaremos o dataframe **antes da limpeza**, pois a partir da análise correlacional poderemos levantar hipóteses do porque o preço da diária em alguns imóveis foi tão destoante. Pode ser também interessante analisar essas relações com as avaliações dos usuários"
      ]
    },
    {
      "cell_type": "code",
      "metadata": {
        "id": "x2ayzBajqxyd",
        "colab": {
          "base_uri": "https://localhost:8080/",
          "height": 173
        },
        "outputId": "8bfc60e1-d2ae-41ea-d170-b6e6d57150af"
      },
      "source": [
        "# criar uma matriz de correlação\n",
        "matriz = df[['latitude', 'longitude', 'price', 'last_review', 'reviews_per_month']].corr()\n",
        "\n",
        "# mostrar a matriz de correlação\n",
        "display(matriz)\n"
      ],
      "execution_count": 72,
      "outputs": [
        {
          "output_type": "display_data",
          "data": {
            "text/html": [
              "<div>\n",
              "<style scoped>\n",
              "    .dataframe tbody tr th:only-of-type {\n",
              "        vertical-align: middle;\n",
              "    }\n",
              "\n",
              "    .dataframe tbody tr th {\n",
              "        vertical-align: top;\n",
              "    }\n",
              "\n",
              "    .dataframe thead th {\n",
              "        text-align: right;\n",
              "    }\n",
              "</style>\n",
              "<table border=\"1\" class=\"dataframe\">\n",
              "  <thead>\n",
              "    <tr style=\"text-align: right;\">\n",
              "      <th></th>\n",
              "      <th>latitude</th>\n",
              "      <th>longitude</th>\n",
              "      <th>price</th>\n",
              "      <th>reviews_per_month</th>\n",
              "    </tr>\n",
              "  </thead>\n",
              "  <tbody>\n",
              "    <tr>\n",
              "      <th>latitude</th>\n",
              "      <td>1.000000</td>\n",
              "      <td>0.285405</td>\n",
              "      <td>-0.007600</td>\n",
              "      <td>-0.045700</td>\n",
              "    </tr>\n",
              "    <tr>\n",
              "      <th>longitude</th>\n",
              "      <td>0.285405</td>\n",
              "      <td>1.000000</td>\n",
              "      <td>-0.005425</td>\n",
              "      <td>0.000603</td>\n",
              "    </tr>\n",
              "    <tr>\n",
              "      <th>price</th>\n",
              "      <td>-0.007600</td>\n",
              "      <td>-0.005425</td>\n",
              "      <td>1.000000</td>\n",
              "      <td>-0.004890</td>\n",
              "    </tr>\n",
              "    <tr>\n",
              "      <th>reviews_per_month</th>\n",
              "      <td>-0.045700</td>\n",
              "      <td>0.000603</td>\n",
              "      <td>-0.004890</td>\n",
              "      <td>1.000000</td>\n",
              "    </tr>\n",
              "  </tbody>\n",
              "</table>\n",
              "</div>"
            ],
            "text/plain": [
              "                   latitude  longitude     price  reviews_per_month\n",
              "latitude           1.000000   0.285405 -0.007600          -0.045700\n",
              "longitude          0.285405   1.000000 -0.005425           0.000603\n",
              "price             -0.007600  -0.005425  1.000000          -0.004890\n",
              "reviews_per_month -0.045700   0.000603 -0.004890           1.000000"
            ]
          },
          "metadata": {
            "tags": []
          }
        }
      ]
    },
    {
      "cell_type": "code",
      "metadata": {
        "id": "91UujDr6ueqE",
        "colab": {
          "base_uri": "https://localhost:8080/",
          "height": 318
        },
        "outputId": "cc309e4d-6b95-4648-aa73-4a4820b84d50"
      },
      "source": [
        "# plotar um heatmap a partir das correlações\n",
        "snb.heatmap(matriz, cmap='RdBu', annot=True);\n"
      ],
      "execution_count": 73,
      "outputs": [
        {
          "output_type": "display_data",
          "data": {
            "image/png": "[encoded data removed]",
            "text/plain": [
              "<Figure size 432x288 with 2 Axes>"
            ]
          },
          "metadata": {
            "tags": [],
            "needs_background": "light"
          }
        }
      ]
    },
    {
      "cell_type": "markdown",
      "metadata": {
        "id": "lMdgcYZP_TQg"
      },
      "source": [
        "Foi possível analisar que há pouca correlação entre os valores do dataset."
      ]
    },
    {
      "cell_type": "markdown",
      "metadata": {
        "id": "7b6RMWpuHKN-"
      },
      "source": [
        "### **Quais os tipos de imóveis com maior disponibilidade em Barcelona?**"
      ]
    },
    {
      "cell_type": "code",
      "metadata": {
        "id": "ueLPNWvPHgfB",
        "colab": {
          "base_uri": "https://localhost:8080/"
        },
        "outputId": "1bd46107-7798-45b2-fb9a-e7792534bb1b"
      },
      "source": [
        "# mostrar a quantidade de cada tipo de imóvel disponível\n",
        "df_clean.room_type.value_counts()"
      ],
      "execution_count": 74,
      "outputs": [
        {
          "output_type": "execute_result",
          "data": {
            "text/plain": [
              "Entire home/apt    8916\n",
              "Private room       8183\n",
              "Hotel room          271\n",
              "Shared room         219\n",
              "Name: room_type, dtype: int64"
            ]
          },
          "metadata": {
            "tags": []
          },
          "execution_count": 74
        }
      ]
    },
    {
      "cell_type": "code",
      "metadata": {
        "id": "EvwoO-XAHhIm",
        "colab": {
          "base_uri": "https://localhost:8080/"
        },
        "outputId": "6dd02f60-e7d4-4c37-f4cc-b674c6500a3e"
      },
      "source": [
        "# mostrar a porcentagem de cada tipo de imóvel disponível\n",
        "df_clean.room_type.value_counts() / df_clean.shape[0]\n",
        "\n"
      ],
      "execution_count": 75,
      "outputs": [
        {
          "output_type": "execute_result",
          "data": {
            "text/plain": [
              "Entire home/apt    0.506908\n",
              "Private room       0.465234\n",
              "Hotel room         0.015407\n",
              "Shared room        0.012451\n",
              "Name: room_type, dtype: float64"
            ]
          },
          "metadata": {
            "tags": []
          },
          "execution_count": 75
        }
      ]
    },
    {
      "cell_type": "code",
      "metadata": {
        "colab": {
          "base_uri": "https://localhost:8080/",
          "height": 692
        },
        "id": "gwD4gmcb-oGa",
        "outputId": "6d6837f0-2eb0-4ac2-c2cf-ac47e2a1a3c4"
      },
      "source": [
        "a= df_clean.room_type.value_counts().plot(kind='bar', figsize=(15, 10));\n",
        "\n",
        "a.set_ylabel(\"Preço em dólares\", labelpad=20); \n",
        "a.set_xlabel(\"Tipo de quarto\", labelpad=20);"
      ],
      "execution_count": 86,
      "outputs": [
        {
          "output_type": "display_data",
          "data": {
            "image/png": "[encoded data removed]",
            "text/plain": [
              "<Figure size 1080x720 with 1 Axes>"
            ]
          },
          "metadata": {
            "tags": [],
            "needs_background": "light"
          }
        }
      ]
    },
    {
      "cell_type": "markdown",
      "metadata": {
        "id": "8zJPNlYmAj5V"
      },
      "source": [
        "As ofertas de aluguel via Airbnb em Barcelona são distribuídas da seguinte forma:\n",
        "* Casas/apartamentos inteiros (50.69% dos imoveis disponíveis)\n",
        "* Quartos privados (46.52% dos imoveis disponíveis)\n",
        "* Quartos de hotel (1.54% dos imoveis disponíveis)\n",
        "* Quartos compartilhados (1.24% dos imoveis disponíveis)"
      ]
    },
    {
      "cell_type": "markdown",
      "metadata": {
        "id": "MFa5NbnLJMcd"
      },
      "source": [
        "### **Localidades mais caras do Airbnb Barcelona**\n",
        "\n",
        "\n"
      ]
    },
    {
      "cell_type": "code",
      "metadata": {
        "id": "MD_xa143JZpi",
        "colab": {
          "base_uri": "https://localhost:8080/"
        },
        "outputId": "a3b68f05-9d5c-415a-dd11-1020082eb100"
      },
      "source": [
        "# ver preços por bairros, na média\n",
        "df_bcn.groupby(\"neighbourhood\").price.mean().sort_values(ascending=False)[:5]"
      ],
      "execution_count": 77,
      "outputs": [
        {
          "output_type": "execute_result",
          "data": {
            "text/plain": [
              "neighbourhood\n",
              "la Vila Olímpica del Poblenou                   101.773109\n",
              "Diagonal Mar i el Front Marítim del Poblenou     98.699115\n",
              "la Dreta de l'Eixample                           97.799398\n",
              "Vallvidrera, el Tibidabo i les Planes            95.142857\n",
              "Sant Gervasi - Galvany                           92.196429\n",
              "Name: price, dtype: float64"
            ]
          },
          "metadata": {
            "tags": []
          },
          "execution_count": 77
        }
      ]
    },
    {
      "cell_type": "code",
      "metadata": {
        "colab": {
          "base_uri": "https://localhost:8080/",
          "height": 129
        },
        "id": "155IYeUG_S3M",
        "outputId": "4561c08d-fc3c-49de-d717-8b51189f2abb"
      },
      "source": [
        "df_bcn.groupby(\"neighbourhood\").price.mean().sort_values(ascending=False)[:5].plot(kind='barh');\n"
      ],
      "execution_count": 78,
      "outputs": [
        {
          "output_type": "error",
          "ename": "SyntaxError",
          "evalue": "ignored",
          "traceback": [
            "\u001b[0;36m  File \u001b[0;32m\"<ipython-input-78-cf4de73c8b71>\"\u001b[0;36m, line \u001b[0;32m1\u001b[0m\n\u001b[0;31m    df_bcn.groupby(\"neighbourhood\").price.mean().sort_values(ascending=False)[:5].plot(kind='barh', figsize(30,20));\u001b[0m\n\u001b[0m                                                                                                   ^\u001b[0m\n\u001b[0;31mSyntaxError\u001b[0m\u001b[0;31m:\u001b[0m positional argument follows keyword argument\n"
          ]
        }
      ]
    },
    {
      "cell_type": "markdown",
      "metadata": {
        "id": "mW4KcgXEjq2a"
      },
      "source": [
        "Nesse trecho é necessário ter cuidado com os resultados obtidos. Às vezes, um imóvel em um bairro \"ruim\" é alugado por um preço alto, fazendo com que a média fique alta e a análise distorcida. No nosso estudo, os bairros retornados na busca são, de fato, os melhores da cidade."
      ]
    },
    {
      "cell_type": "markdown",
      "metadata": {
        "id": "uTif6VsmpXYk"
      },
      "source": [
        "O bairro com a maior média de preço foi a vila Olímpica. Bairro moderno construído para os Jogos de 1992 possui em suas redondezas obras de arquitetura moderna, que são um grande atrativo. Além disso, o bairro é perto da praia e está a 10 minutos de carro do centro da cidade, onde estão atrações como La Rambla e a Sagrada Família."
      ]
    },
    {
      "cell_type": "code",
      "metadata": {
        "id": "UxVJqJ_3W59I"
      },
      "source": [
        "# plotar os imóveis pela latitude-longitude\n",
        "df_clean.plot.scatter(x='latitude', y='longitude');"
      ],
      "execution_count": null,
      "outputs": []
    },
    {
      "cell_type": "markdown",
      "metadata": {
        "id": "W-alpsKioNsa"
      },
      "source": [
        "### Média de preços para cada tipo de imóvel em Barcelona"
      ]
    },
    {
      "cell_type": "code",
      "metadata": {
        "id": "p1XQAZIroR3J"
      },
      "source": [
        "df_bcn.groupby(['room_type']).price.mean().sort_values(ascending = False)"
      ],
      "execution_count": null,
      "outputs": []
    },
    {
      "cell_type": "code",
      "metadata": {
        "id": "dnBeSD4UGD7w"
      },
      "source": [
        "df_bcn.groupby(['room_type']).price.mean().sort_values(ascending = False).plot(kind='barh');"
      ],
      "execution_count": null,
      "outputs": []
    },
    {
      "cell_type": "code",
      "metadata": {
        "id": "ScN7K9F-qDdH"
      },
      "source": [
        "hotel = df_bcn[df_bcn.room_type == 'Hotel room'].shape[0]\n",
        "entire = df_bcn[df_bcn.room_type == 'Entire home/apt'].shape[0]\n",
        "print(\"Hoteis disponíveis: {}\".format(hotel))\n",
        "print(\"Casas disponíveis: {}\".format(entire))\n"
      ],
      "execution_count": null,
      "outputs": []
    },
    {
      "cell_type": "markdown",
      "metadata": {
        "id": "lRUKuPllqpyW"
      },
      "source": [
        "Na análise de média de preços para cada tipo de imóvel, já podemos observar um fenômeno interessante. Os hotéis, apesar de representarem um menor número de ofertas (1.54% dos imoveis disponíveis) apresentam a maior média de preço por diária. Caberia uma análise aprofundada para saber se existem dados inflando a média, ou se esse é realmente o preço médio observado para os quartos de hotel em Barcelona."
      ]
    },
    {
      "cell_type": "markdown",
      "metadata": {
        "id": "vTneAMRUYvr1"
      },
      "source": [
        "### **Média de noites mínimas para aluguel**"
      ]
    },
    {
      "cell_type": "code",
      "metadata": {
        "id": "_VzNhrEgY82N"
      },
      "source": [
        "df_bcn['minimum_nights'].mean()"
      ],
      "execution_count": null,
      "outputs": []
    },
    {
      "cell_type": "markdown",
      "metadata": {
        "id": "GkvAg623RjoR"
      },
      "source": [
        "## Conclusões\n",
        "### Imóveis disponíveis e preço\n",
        "Nossa análise nos permitiu ver que a cidade de Barcelona, possui no Airbnb diversas opções para aqueles que querem aproveitar a cidade, sendo a média de noites mínimas para aluguel de aproximadamente 10 noites, período suficiente para conhecer a cidade catalã. Ademais, a maior oferta de imóveis disponíveis na plataforma é de casas/apartamentos inteiros, ideal para quem viaja em grupo ou em família. Em relação aos preços, a maior média para o aluguel foi observada nos quartos de hotel, em média 103 dólares a diária, praticamente a mesma média do aluguel de uma casa inteira. A média total ficou na casa dos 73 dólares, enquanto no histograma foi observado que a grande maioria dos imóveis tem o preço de aluguel próximo a 50 dólares.\n",
        "\n"
      ]
    },
    {
      "cell_type": "markdown",
      "metadata": {
        "id": "zzZObm_w7HTw"
      },
      "source": [
        "<img src='https://images.unsplash.com/photo-1562883676-8c7feb83f09b?ixid=MnwxMjA3fDB8MHxzZWFyY2h8MTN8fGJhcmNlbG9uYXxlbnwwfHwwfHw%3D&ixlib=rb-1.2.1&auto=format&fit=crop&w=500&q=60'>"
      ]
    }
  ]
}